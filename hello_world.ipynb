{
 "cells": [
  {
   "cell_type": "code",
   "execution_count": 1,
   "metadata": {
    "collapsed": true,
    "jupyter": {
     "outputs_hidden": true
    }
   },
   "outputs": [
    {
     "name": "stdout",
     "output_type": "stream",
     "text": [
      "Collecting streamlit\n",
      "  Downloading streamlit-1.2.0-py2.py3-none-any.whl (9.1 MB)\n",
      "Requirement already satisfied: watchdog in c:\\users\\owner\\anaconda3\\lib\\site-packages (0.10.2)\n",
      "Requirement already satisfied: matplotlib in c:\\users\\owner\\anaconda3\\lib\\site-packages (3.1.3)\n",
      "Requirement already satisfied: click in c:\\users\\owner\\anaconda3\\lib\\site-packages (7.0)\n",
      "Collecting pympler>=0.9\n",
      "  Downloading Pympler-0.9.tar.gz (178 kB)\n",
      "Requirement already satisfied: python-dateutil in c:\\users\\owner\\anaconda3\\lib\\site-packages (from streamlit) (2.8.1)\n",
      "Requirement already satisfied: pandas>=0.21.0 in c:\\users\\owner\\anaconda3\\lib\\site-packages (from streamlit) (1.0.1)\n",
      "Requirement already satisfied: requests in c:\\users\\owner\\anaconda3\\lib\\site-packages (from streamlit) (2.22.0)\n",
      "Collecting altair>=3.2.0\n",
      "  Downloading altair-4.1.0-py3-none-any.whl (727 kB)\n",
      "Collecting pydeck>=0.1.dev5\n",
      "  Downloading pydeck-0.7.1-py2.py3-none-any.whl (4.3 MB)\n",
      "Requirement already satisfied: numpy in c:\\users\\owner\\anaconda3\\lib\\site-packages (from streamlit) (1.18.1)\n",
      "Requirement already satisfied: pillow>=6.2.0 in c:\\users\\owner\\anaconda3\\lib\\site-packages (from streamlit) (7.0.0)\n",
      "Collecting protobuf!=3.11,>=3.6.0\n",
      "  Downloading protobuf-3.19.1-cp37-cp37m-win_amd64.whl (896 kB)\n",
      "Collecting pyarrow\n",
      "  Downloading pyarrow-6.0.1-cp37-cp37m-win_amd64.whl (15.4 MB)\n",
      "Collecting gitpython!=3.1.19\n",
      "  Downloading GitPython-3.1.24-py3-none-any.whl (180 kB)\n",
      "Requirement already satisfied: packaging in c:\\users\\owner\\anaconda3\\lib\\site-packages (from streamlit) (20.1)\n",
      "Collecting cachetools>=4.0\n",
      "  Downloading cachetools-4.2.4-py3-none-any.whl (10 kB)\n",
      "Collecting toml\n",
      "  Downloading toml-0.10.2-py2.py3-none-any.whl (16 kB)\n",
      "Collecting tzlocal\n",
      "  Downloading tzlocal-4.1-py3-none-any.whl (19 kB)\n",
      "Collecting base58\n",
      "  Downloading base58-2.1.1-py3-none-any.whl (5.6 kB)\n",
      "Collecting validators\n",
      "  Downloading validators-0.18.2-py3-none-any.whl (19 kB)\n",
      "Requirement already satisfied: attrs in c:\\users\\owner\\anaconda3\\lib\\site-packages (from streamlit) (19.3.0)\n",
      "Requirement already satisfied: tornado>=5.0 in c:\\users\\owner\\anaconda3\\lib\\site-packages (from streamlit) (6.0.3)\n",
      "Collecting blinker\n",
      "  Downloading blinker-1.4.tar.gz (111 kB)\n",
      "Collecting astor\n",
      "  Downloading astor-0.8.1-py2.py3-none-any.whl (27 kB)\n",
      "Requirement already satisfied: pathtools>=0.1.1 in c:\\users\\owner\\anaconda3\\lib\\site-packages (from watchdog) (0.1.2)\n",
      "Requirement already satisfied: cycler>=0.10 in c:\\users\\owner\\anaconda3\\lib\\site-packages (from matplotlib) (0.10.0)\n",
      "Requirement already satisfied: kiwisolver>=1.0.1 in c:\\users\\owner\\anaconda3\\lib\\site-packages (from matplotlib) (1.1.0)\n",
      "Requirement already satisfied: pyparsing!=2.0.4,!=2.1.2,!=2.1.6,>=2.0.1 in c:\\users\\owner\\anaconda3\\lib\\site-packages (from matplotlib) (2.4.6)\n",
      "Requirement already satisfied: six>=1.5 in c:\\users\\owner\\anaconda3\\lib\\site-packages (from python-dateutil->streamlit) (1.14.0)\n",
      "Requirement already satisfied: pytz>=2017.2 in c:\\users\\owner\\anaconda3\\lib\\site-packages (from pandas>=0.21.0->streamlit) (2019.3)\n",
      "Requirement already satisfied: chardet<3.1.0,>=3.0.2 in c:\\users\\owner\\anaconda3\\lib\\site-packages (from requests->streamlit) (3.0.4)\n",
      "Requirement already satisfied: idna<2.9,>=2.5 in c:\\users\\owner\\anaconda3\\lib\\site-packages (from requests->streamlit) (2.8)\n",
      "Requirement already satisfied: certifi>=2017.4.17 in c:\\users\\owner\\anaconda3\\lib\\site-packages (from requests->streamlit) (2019.11.28)\n",
      "Requirement already satisfied: urllib3!=1.25.0,!=1.25.1,<1.26,>=1.21.1 in c:\\users\\owner\\anaconda3\\lib\\site-packages (from requests->streamlit) (1.25.8)\n",
      "Requirement already satisfied: jsonschema in c:\\users\\owner\\anaconda3\\lib\\site-packages (from altair>=3.2.0->streamlit) (3.2.0)\n",
      "Requirement already satisfied: jinja2 in c:\\users\\owner\\anaconda3\\lib\\site-packages (from altair>=3.2.0->streamlit) (2.11.1)\n",
      "Requirement already satisfied: toolz in c:\\users\\owner\\anaconda3\\lib\\site-packages (from altair>=3.2.0->streamlit) (0.10.0)\n",
      "Requirement already satisfied: entrypoints in c:\\users\\owner\\anaconda3\\lib\\site-packages (from altair>=3.2.0->streamlit) (0.3)\n",
      "Requirement already satisfied: traitlets>=4.3.2 in c:\\users\\owner\\anaconda3\\lib\\site-packages (from pydeck>=0.1.dev5->streamlit) (4.3.3)\n",
      "Requirement already satisfied: ipykernel>=5.1.2; python_version >= \"3.4\" in c:\\users\\owner\\anaconda3\\lib\\site-packages (from pydeck>=0.1.dev5->streamlit) (5.1.4)\n",
      "Requirement already satisfied: ipywidgets>=7.0.0 in c:\\users\\owner\\anaconda3\\lib\\site-packages (from pydeck>=0.1.dev5->streamlit) (7.5.1)\n",
      "Collecting gitdb<5,>=4.0.1\n",
      "  Downloading gitdb-4.0.9-py3-none-any.whl (63 kB)\n",
      "Collecting typing-extensions>=3.7.4.3; python_version < \"3.10\"\n",
      "  Downloading typing_extensions-4.0.0-py3-none-any.whl (22 kB)\n",
      "Collecting pytz-deprecation-shim\n",
      "  Downloading pytz_deprecation_shim-0.1.0.post0-py2.py3-none-any.whl (15 kB)\n",
      "Collecting backports.zoneinfo; python_version < \"3.9\"\n",
      "  Downloading backports.zoneinfo-0.2.1-cp37-cp37m-win_amd64.whl (38 kB)\n",
      "Collecting tzdata; platform_system == \"Windows\"\n",
      "  Downloading tzdata-2021.5-py2.py3-none-any.whl (339 kB)\n",
      "Requirement already satisfied: decorator>=3.4.0 in c:\\users\\owner\\anaconda3\\lib\\site-packages (from validators->streamlit) (4.4.1)\n",
      "Requirement already satisfied: setuptools in c:\\users\\owner\\anaconda3\\lib\\site-packages (from kiwisolver>=1.0.1->matplotlib) (45.2.0.post20200210)\n",
      "Requirement already satisfied: importlib-metadata; python_version < \"3.8\" in c:\\users\\owner\\anaconda3\\lib\\site-packages (from jsonschema->altair>=3.2.0->streamlit) (1.5.0)\n",
      "Requirement already satisfied: pyrsistent>=0.14.0 in c:\\users\\owner\\anaconda3\\lib\\site-packages (from jsonschema->altair>=3.2.0->streamlit) (0.15.7)\n",
      "Requirement already satisfied: MarkupSafe>=0.23 in c:\\users\\owner\\anaconda3\\lib\\site-packages (from jinja2->altair>=3.2.0->streamlit) (1.1.1)\n",
      "Requirement already satisfied: ipython-genutils in c:\\users\\owner\\anaconda3\\lib\\site-packages (from traitlets>=4.3.2->pydeck>=0.1.dev5->streamlit) (0.2.0)\n",
      "Requirement already satisfied: ipython>=5.0.0 in c:\\users\\owner\\anaconda3\\lib\\site-packages (from ipykernel>=5.1.2; python_version >= \"3.4\"->pydeck>=0.1.dev5->streamlit) (7.12.0)\n",
      "Requirement already satisfied: jupyter-client in c:\\users\\owner\\anaconda3\\lib\\site-packages (from ipykernel>=5.1.2; python_version >= \"3.4\"->pydeck>=0.1.dev5->streamlit) (5.3.4)\n",
      "Requirement already satisfied: widgetsnbextension~=3.5.0 in c:\\users\\owner\\anaconda3\\lib\\site-packages (from ipywidgets>=7.0.0->pydeck>=0.1.dev5->streamlit) (3.5.1)\n",
      "Requirement already satisfied: nbformat>=4.2.0 in c:\\users\\owner\\anaconda3\\lib\\site-packages (from ipywidgets>=7.0.0->pydeck>=0.1.dev5->streamlit) (5.0.4)\n",
      "Collecting smmap<6,>=3.0.1\n",
      "  Downloading smmap-5.0.0-py3-none-any.whl (24 kB)\n",
      "Requirement already satisfied: zipp>=0.5 in c:\\users\\owner\\anaconda3\\lib\\site-packages (from importlib-metadata; python_version < \"3.8\"->jsonschema->altair>=3.2.0->streamlit) (2.2.0)\n",
      "Requirement already satisfied: prompt-toolkit!=3.0.0,!=3.0.1,<3.1.0,>=2.0.0 in c:\\users\\owner\\anaconda3\\lib\\site-packages (from ipython>=5.0.0->ipykernel>=5.1.2; python_version >= \"3.4\"->pydeck>=0.1.dev5->streamlit) (3.0.3)\n",
      "Requirement already satisfied: jedi>=0.10 in c:\\users\\owner\\anaconda3\\lib\\site-packages (from ipython>=5.0.0->ipykernel>=5.1.2; python_version >= \"3.4\"->pydeck>=0.1.dev5->streamlit) (0.14.1)\n",
      "Requirement already satisfied: pygments in c:\\users\\owner\\anaconda3\\lib\\site-packages (from ipython>=5.0.0->ipykernel>=5.1.2; python_version >= \"3.4\"->pydeck>=0.1.dev5->streamlit) (2.5.2)\n",
      "Requirement already satisfied: pickleshare in c:\\users\\owner\\anaconda3\\lib\\site-packages (from ipython>=5.0.0->ipykernel>=5.1.2; python_version >= \"3.4\"->pydeck>=0.1.dev5->streamlit) (0.7.5)\n",
      "Requirement already satisfied: backcall in c:\\users\\owner\\anaconda3\\lib\\site-packages (from ipython>=5.0.0->ipykernel>=5.1.2; python_version >= \"3.4\"->pydeck>=0.1.dev5->streamlit) (0.1.0)\n",
      "Requirement already satisfied: colorama; sys_platform == \"win32\" in c:\\users\\owner\\anaconda3\\lib\\site-packages (from ipython>=5.0.0->ipykernel>=5.1.2; python_version >= \"3.4\"->pydeck>=0.1.dev5->streamlit) (0.4.3)\n",
      "Requirement already satisfied: pywin32>=1.0; sys_platform == \"win32\" in c:\\users\\owner\\anaconda3\\lib\\site-packages (from jupyter-client->ipykernel>=5.1.2; python_version >= \"3.4\"->pydeck>=0.1.dev5->streamlit) (227)\n",
      "Requirement already satisfied: jupyter-core>=4.6.0 in c:\\users\\owner\\anaconda3\\lib\\site-packages (from jupyter-client->ipykernel>=5.1.2; python_version >= \"3.4\"->pydeck>=0.1.dev5->streamlit) (4.6.1)\n",
      "Requirement already satisfied: pyzmq>=13 in c:\\users\\owner\\anaconda3\\lib\\site-packages (from jupyter-client->ipykernel>=5.1.2; python_version >= \"3.4\"->pydeck>=0.1.dev5->streamlit) (18.1.1)\n",
      "Requirement already satisfied: notebook>=4.4.1 in c:\\users\\owner\\anaconda3\\lib\\site-packages (from widgetsnbextension~=3.5.0->ipywidgets>=7.0.0->pydeck>=0.1.dev5->streamlit) (6.0.3)\n",
      "Requirement already satisfied: wcwidth in c:\\users\\owner\\anaconda3\\lib\\site-packages (from prompt-toolkit!=3.0.0,!=3.0.1,<3.1.0,>=2.0.0->ipython>=5.0.0->ipykernel>=5.1.2; python_version >= \"3.4\"->pydeck>=0.1.dev5->streamlit) (0.1.8)\n",
      "Requirement already satisfied: parso>=0.5.0 in c:\\users\\owner\\anaconda3\\lib\\site-packages (from jedi>=0.10->ipython>=5.0.0->ipykernel>=5.1.2; python_version >= \"3.4\"->pydeck>=0.1.dev5->streamlit) (0.5.2)\n",
      "Requirement already satisfied: nbconvert in c:\\users\\owner\\anaconda3\\lib\\site-packages (from notebook>=4.4.1->widgetsnbextension~=3.5.0->ipywidgets>=7.0.0->pydeck>=0.1.dev5->streamlit) (5.6.1)\n",
      "Requirement already satisfied: terminado>=0.8.1 in c:\\users\\owner\\anaconda3\\lib\\site-packages (from notebook>=4.4.1->widgetsnbextension~=3.5.0->ipywidgets>=7.0.0->pydeck>=0.1.dev5->streamlit) (0.8.3)\n",
      "Requirement already satisfied: Send2Trash in c:\\users\\owner\\anaconda3\\lib\\site-packages (from notebook>=4.4.1->widgetsnbextension~=3.5.0->ipywidgets>=7.0.0->pydeck>=0.1.dev5->streamlit) (1.5.0)\n",
      "Requirement already satisfied: prometheus-client in c:\\users\\owner\\anaconda3\\lib\\site-packages (from notebook>=4.4.1->widgetsnbextension~=3.5.0->ipywidgets>=7.0.0->pydeck>=0.1.dev5->streamlit) (0.7.1)\n",
      "Requirement already satisfied: pandocfilters>=1.4.1 in c:\\users\\owner\\anaconda3\\lib\\site-packages (from nbconvert->notebook>=4.4.1->widgetsnbextension~=3.5.0->ipywidgets>=7.0.0->pydeck>=0.1.dev5->streamlit) (1.4.2)\n",
      "Requirement already satisfied: mistune<2,>=0.8.1 in c:\\users\\owner\\anaconda3\\lib\\site-packages (from nbconvert->notebook>=4.4.1->widgetsnbextension~=3.5.0->ipywidgets>=7.0.0->pydeck>=0.1.dev5->streamlit) (0.8.4)\n",
      "Requirement already satisfied: defusedxml in c:\\users\\owner\\anaconda3\\lib\\site-packages (from nbconvert->notebook>=4.4.1->widgetsnbextension~=3.5.0->ipywidgets>=7.0.0->pydeck>=0.1.dev5->streamlit) (0.6.0)\n",
      "Requirement already satisfied: bleach in c:\\users\\owner\\anaconda3\\lib\\site-packages (from nbconvert->notebook>=4.4.1->widgetsnbextension~=3.5.0->ipywidgets>=7.0.0->pydeck>=0.1.dev5->streamlit) (3.1.0)\n",
      "Requirement already satisfied: testpath in c:\\users\\owner\\anaconda3\\lib\\site-packages (from nbconvert->notebook>=4.4.1->widgetsnbextension~=3.5.0->ipywidgets>=7.0.0->pydeck>=0.1.dev5->streamlit) (0.4.4)\n",
      "Requirement already satisfied: webencodings in c:\\users\\owner\\anaconda3\\lib\\site-packages (from bleach->nbconvert->notebook>=4.4.1->widgetsnbextension~=3.5.0->ipywidgets>=7.0.0->pydeck>=0.1.dev5->streamlit) (0.5.1)\n",
      "Building wheels for collected packages: pympler, blinker\n",
      "  Building wheel for pympler (setup.py): started\n",
      "  Building wheel for pympler (setup.py): finished with status 'done'\n",
      "  Created wheel for pympler: filename=Pympler-0.9-py3-none-any.whl size=164809 sha256=21cbf524bcd57d38670a5a78aff775dba3510e527b18f5ad3375f595cc5bc9bd\n",
      "  Stored in directory: c:\\users\\owner\\appdata\\local\\pip\\cache\\wheels\\1a\\f3\\d8\\35d5614ea4ddd295ffb9372a5f2f9570d9593d1ea4be33ec6d\n",
      "  Building wheel for blinker (setup.py): started\n",
      "  Building wheel for blinker (setup.py): finished with status 'done'\n",
      "  Created wheel for blinker: filename=blinker-1.4-py3-none-any.whl size=13455 sha256=135461452585f0eb5ddddb75431fac73bdd807b4f7740df35f436be7ad165627\n",
      "  Stored in directory: c:\\users\\owner\\appdata\\local\\pip\\cache\\wheels\\22\\f5\\18\\df711b66eb25b21325c132757d4314db9ac5e8dabeaf196eab\n",
      "Successfully built pympler blinker\n",
      "Installing collected packages: pympler, altair, pydeck, protobuf, pyarrow, smmap, gitdb, typing-extensions, gitpython, cachetools, toml, tzdata, backports.zoneinfo, pytz-deprecation-shim, tzlocal, base58, validators, blinker, astor, streamlit\n",
      "Successfully installed altair-4.1.0 astor-0.8.1 backports.zoneinfo-0.2.1 base58-2.1.1 blinker-1.4 cachetools-4.2.4 gitdb-4.0.9 gitpython-3.1.24 protobuf-3.19.1 pyarrow-6.0.1 pydeck-0.7.1 pympler-0.9 pytz-deprecation-shim-0.1.0.post0 smmap-5.0.0 streamlit-1.2.0 toml-0.10.2 typing-extensions-4.0.0 tzdata-2021.5 tzlocal-4.1 validators-0.18.2\n"
     ]
    }
   ],
   "source": [
    "!pip install streamlit watchdog matplotlib click"
   ]
  },
  {
   "cell_type": "code",
   "execution_count": 2,
   "metadata": {},
   "outputs": [
    {
     "name": "stdout",
     "output_type": "stream",
     "text": [
      "Streamlit, version 1.2.0\n"
     ]
    }
   ],
   "source": [
    "!streamlit version"
   ]
  },
  {
   "cell_type": "code",
   "execution_count": 3,
   "metadata": {},
   "outputs": [],
   "source": [
    "import streamlit as st"
   ]
  },
  {
   "cell_type": "code",
   "execution_count": 4,
   "metadata": {},
   "outputs": [],
   "source": [
    "def main():\n",
    "    st.write(\"Hello MishinaSan!\")"
   ]
  },
  {
   "cell_type": "code",
   "execution_count": 5,
   "metadata": {},
   "outputs": [
    {
     "name": "stderr",
     "output_type": "stream",
     "text": [
      "2021-11-20 15:24:51.130 \n",
      "  \u001b[33m\u001b[1mWarning:\u001b[0m to view this Streamlit app on a browser, run it with the following\n",
      "  command:\n",
      "\n",
      "    streamlit run C:\\Users\\Owner\\anaconda3\\lib\\site-packages\\ipykernel_launcher.py [ARGUMENTS]\n"
     ]
    }
   ],
   "source": [
    "if __name__ == \"__main__\":\n",
    "    main()"
   ]
  },
  {
   "cell_type": "code",
   "execution_count": null,
   "metadata": {},
   "outputs": [],
   "source": []
  }
 ],
 "metadata": {
  "kernelspec": {
   "display_name": "Python 3",
   "language": "python",
   "name": "python3"
  },
  "language_info": {
   "codemirror_mode": {
    "name": "ipython",
    "version": 3
   },
   "file_extension": ".py",
   "mimetype": "text/x-python",
   "name": "python",
   "nbconvert_exporter": "python",
   "pygments_lexer": "ipython3",
   "version": "3.7.6"
  }
 },
 "nbformat": 4,
 "nbformat_minor": 4
}
