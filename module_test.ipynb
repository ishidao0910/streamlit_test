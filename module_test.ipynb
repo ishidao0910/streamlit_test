{
 "cells": [
  {
   "cell_type": "code",
   "execution_count": 1,
   "metadata": {
    "collapsed": true,
    "jupyter": {
     "outputs_hidden": true
    }
   },
   "outputs": [],
   "source": [
    "# ! pip install streamlit watchdog matplotlib click"
   ]
  },
  {
   "cell_type": "code",
   "execution_count": 2,
   "metadata": {},
   "outputs": [
    {
     "name": "stdout",
     "output_type": "stream",
     "text": [
      "Streamlit, version 1.2.0\n"
     ]
    }
   ],
   "source": [
    "! streamlit version"
   ]
  },
  {
   "cell_type": "code",
   "execution_count": 6,
   "metadata": {},
   "outputs": [],
   "source": [
    "import pandas"
   ]
  },
  {
   "cell_type": "code",
   "execution_count": 3,
   "metadata": {},
   "outputs": [],
   "source": [
    "import streamlit as st"
   ]
  },
  {
   "cell_type": "code",
   "execution_count": 7,
   "metadata": {},
   "outputs": [],
   "source": [
    "def make_dataframe(csv):\n",
    "    df = pandas.read_csv(csv)\n",
    "    buy_l = []\n",
    "    payout_l = []\n",
    "    for i, j in zip(df['購入'], df[df.columns[7]]):\n",
    "        i = i.replace(\"￥\", \"\")\n",
    "        i = int(i.replace(\",\", \"\"))\n",
    "        j = j.replace(\"￥\", \"\")\n",
    "        j = j.replace(\"---\", \"0\")\n",
    "        j = int(j.replace(\",\", \"\"))\n",
    "        buy_l.append(i)\n",
    "        payout_l.append(j)\n",
    "    df['購入'] = buy_l\n",
    "    df[df.columns[7]] = payout_l\n",
    "    # net_income = df['購入'].sum() - df['ペイアウト '].sum()\n",
    "\n",
    "    return df"
   ]
  },
  {
   "cell_type": "code",
   "execution_count": 8,
   "metadata": {},
   "outputs": [],
   "source": [
    "def get_total_income(df):\n",
    "    return df['購入'].sum() - df['ペイアウト '].sum()"
   ]
  },
  {
   "cell_type": "code",
   "execution_count": 4,
   "metadata": {},
   "outputs": [],
   "source": [
    "def main():\n",
    "    st.write(\"Binary Option\")\n",
    "    st.write(\"11/01 ~ 11/14 の収益分析\")\n",
    "    df = make_dataframe(\"histry.csv\")\n",
    "    total_income = get_total_income(df)\n",
    "\n",
    "    st.write(total_income)\n"
   ]
  },
  {
   "cell_type": "code",
   "execution_count": 5,
   "metadata": {},
   "outputs": [
    {
     "name": "stderr",
     "output_type": "stream",
     "text": [
      "2021-11-20 15:42:21.767 \n",
      "  \u001b[33m\u001b[1mWarning:\u001b[0m to view this Streamlit app on a browser, run it with the following\n",
      "  command:\n",
      "\n",
      "    streamlit run /opt/anaconda3/lib/python3.8/site-packages/ipykernel_launcher.py [ARGUMENTS]\n"
     ]
    }
   ],
   "source": [
    "if __name__ == \"__main__\":\n",
    "    main()"
   ]
  },
  {
   "cell_type": "code",
   "execution_count": null,
   "metadata": {},
   "outputs": [],
   "source": []
  }
 ],
 "metadata": {
  "kernelspec": {
   "display_name": "Python 3",
   "language": "python",
   "name": "python3"
  },
  "language_info": {
   "codemirror_mode": {
    "name": "ipython",
    "version": 3
   },
   "file_extension": ".py",
   "mimetype": "text/x-python",
   "name": "python",
   "nbconvert_exporter": "python",
   "pygments_lexer": "ipython3",
   "version": "3.8.3"
  }
 },
 "nbformat": 4,
 "nbformat_minor": 4
}
